{
 "cells": [
  {
   "cell_type": "code",
   "execution_count": null,
   "metadata": {},
   "outputs": [],
   "source": [
    "import random\n",
    "import numpy as np\n",
    "population = 10000\n",
    "days = 365\n",
    "ill_nr = 1\n",
    "\n",
    "hospitalization = 0.2\n",
    "icu = 0.05\n",
    "mortality = 0.02\n",
    "asymptomatic = 14\n",
    "cure = 30\n",
    "quarantine = 14\n",
    "\n",
    "family_size = 4\n",
    "transfer_risk = 0.01\n",
    "family_risk = 0.5\n",
    "meet_people = 3\n",
    "\n",
    "peoples = []\n",
    "ill_peoples = []\n",
    "\n",
    "for i in range(population):\n",
    "    peoples.append(0)\n",
    "    \n",
    "for i in range(ill_nr):\n",
    "    ill_idx = random.randrange(population)\n",
    "    ill_peoples.append([ill_idx, 0])\n",
    "    peoples[ill_idx] = 100\n",
    "print(ill_peoples)"
   ]
  },
  {
   "cell_type": "code",
   "execution_count": null,
   "metadata": {},
   "outputs": [],
   "source": [
    "for d in range(days):                                                    # kolejne dni\n",
    "    for i, p in enumerate(ill_peoples):                                  # sprawdza chorych\n",
    "        risk_tab = np.random.rand(meet_people)                           # losuje ryzyko zakażenia (0.0-1.0)\n",
    "        people_tab = np.random.randint(0, population, size=meet_people)  # losuje spotkania\n",
    "        for r in range(meet_people):\n",
    "            if peoples[p[0]] >= 101:                                     # ? hospitalizowani i zmarli nie zarażają ?\n",
    "                continue\n",
    "            if risk_tab[r] < transfer_risk:\n",
    "                if peoples[people_tab[r]] >= 100:                                # nie można zarazić drugi raz\n",
    "                    continue\n",
    "                peoples[people_tab[r]] = 100\n",
    "                ill_peoples.append([people_tab[r], d])\n",
    "    for p in ill_peoples:        \n",
    "        if (d - p[1]) == asymptomatic:                         # pojawienie się objawów\n",
    "            risk_tab = np.random.rand(3)\n",
    "            if risk_tab[0] < hospitalization:                  # wymaga hospitalizackji\n",
    "                peoples[p[0]] = 101\n",
    "            if risk_tab[1] < (icu/hospitalization):            # wymaga OIT\n",
    "                peoples[p[0]] = 102\n",
    "            if risk_tab[2] < (mortality/hospitalization):      # zgon\n",
    "                peoples[p[0]] = 200                \n",
    "        if ((d - p[1]) == cure) & (peoples[p[0]] != 200):      # wyleczeni\n",
    "            peoples[p[0]] = 103\n",
    "\n",
    "    print(d, peoples.count(0), peoples.count(100), peoples.count(101), \n",
    "          peoples.count(102), peoples.count(103), peoples.count(200))"
   ]
  },
  {
   "cell_type": "code",
   "execution_count": 109,
   "metadata": {},
   "outputs": [
    {
     "name": "stderr",
     "output_type": "stream",
     "text": [
      "100%|████████████████████████████████████████████████████████████████████████████████| 365/365 [07:10<00:00,  1.29it/s]\n"
     ]
    },
    {
     "data": {
      "image/png": "[encoded data removed]",
      "text/plain": [
       "<Figure size 432x288 with 1 Axes>"
      ]
     },
     "metadata": {
      "needs_background": "light"
     },
     "output_type": "display_data"
    }
   ],
   "source": [
    "import numpy as np\n",
    "import pandas as pd\n",
    "import matplotlib.pyplot as plt\n",
    "from tqdm import tqdm\n",
    "\n",
    "population = 1000000\n",
    "nr_days = 365\n",
    "ill_nr = 1\n",
    "meet = 10\n",
    "transfer_risk = 0.01\n",
    "asymptomatic = 14\n",
    "cure = 30\n",
    "hospitalization = 0.2\n",
    "icu = 0.05\n",
    "mortality = 0.02\n",
    "\n",
    "ill_peoples = {}\n",
    "result = []\n",
    "\n",
    "for i in range(ill_nr):\n",
    "    ill_idx = np.random.randint(0, population, size=1)[0]\n",
    "    ill_peoples[ill_idx] = [0, 100]\n",
    "\n",
    "for d in tqdm(range(nr_days)):\n",
    "    for p in list(ill_peoples.items()):\n",
    "        if p[1][1] >= 101:\n",
    "            continue\n",
    "        risk = np.random.rand(meet)\n",
    "        idx = np.random.randint(0, population, size=meet)\n",
    "        for x, (r, i) in enumerate(zip(risk, idx)):\n",
    "            if i in ill_peoples:\n",
    "                continue\n",
    "            if r < transfer_risk:\n",
    "                ill_peoples[i] = [d, 100]\n",
    "    for k,v in ill_peoples.items():\n",
    "        if v[1] == 103:\n",
    "            pass\n",
    "        elif ((d - v[0]) == cure) & (v[1] != 200):      # wyleczeni\n",
    "            v[1] = 103\n",
    "        elif (d - v[0]) == asymptomatic:\n",
    "            risk = np.random.rand(1)\n",
    "            if risk[0] < (mortality):                   # zgon\n",
    "                v[1] = 200\n",
    "            elif risk[0] < (icu):                       # wymaga OIT\n",
    "                v[1] = 102\n",
    "            elif risk[0] < hospitalization:             # wymaga hospitalizacji\n",
    "                v[1] = 101\n",
    "    \n",
    "    sumary = {}\n",
    "    for k, v in ill_peoples.items():\n",
    "        sumary[v[1]] = sumary.get(v[1], 0) + 1\n",
    "    \n",
    "    result.append(sumary)\n",
    "    #print(d, sumary.get(100, 0), sumary.get(101, 0), sumary.get(102, 0), sumary.get(200, 0), sumary.get(103, 0))\n",
    "    \n",
    "df = pd.DataFrame(result)\n",
    "plt.figure()\n",
    "#plt.legend()\n",
    "plt.plot(df);"
   ]
  }
 ],
 "metadata": {
  "kernelspec": {
   "display_name": "Python 3",
   "language": "python",
   "name": "python3"
  },
  "language_info": {
   "codemirror_mode": {
    "name": "ipython",
    "version": 3
   },
   "file_extension": ".py",
   "mimetype": "text/x-python",
   "name": "python",
   "nbconvert_exporter": "python",
   "pygments_lexer": "ipython3",
   "version": "3.7.1"
  }
 },
 "nbformat": 4,
 "nbformat_minor": 2
}
